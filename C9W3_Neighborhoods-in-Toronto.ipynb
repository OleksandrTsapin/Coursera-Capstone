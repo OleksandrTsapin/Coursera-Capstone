{
 "cells": [
  {
   "cell_type": "markdown",
   "metadata": {},
   "source": [
    "# Segmenting and Clustering Neighborhoods in Toronto | Oleksandr Tsapin\n",
    "Peer-graded Assignment, 13.11.2020"
   ]
  },
  {
   "cell_type": "markdown",
   "metadata": {},
   "source": [
    "### PART 1 (QUESTION 1)\n",
    "#### Scrape the Wikipedia page and wrangle the data, clean it, and then read it into a pandas dataframe so that it is in a structured format like the New York dataset."
   ]
  },
  {
   "cell_type": "markdown",
   "metadata": {},
   "source": [
    "Step 1. Fetch the HTML from the URL using Urllib.request"
   ]
  },
  {
   "cell_type": "code",
   "execution_count": 1,
   "metadata": {},
   "outputs": [],
   "source": [
    "# import the library we will be using to connect to the Wikipedia page and fetch the contents of that page\n",
    "import urllib.request"
   ]
  },
  {
   "cell_type": "code",
   "execution_count": 2,
   "metadata": {},
   "outputs": [],
   "source": [
    "# specify the URL of the Wikipedia page we are looking to scrape\n",
    "url = \"https://en.wikipedia.org/wiki/List_of_postal_codes_of_Canada:_M\""
   ]
  },
  {
   "cell_type": "code",
   "execution_count": 3,
   "metadata": {},
   "outputs": [],
   "source": [
    "# open the url using urllib.request and put the HTML into the page variable\n",
    "page = urllib.request.urlopen(url)"
   ]
  },
  {
   "cell_type": "markdown",
   "metadata": {},
   "source": [
    "Step 2. Use the power of BeautifulSoup to extract and work with the data"
   ]
  },
  {
   "cell_type": "code",
   "execution_count": 4,
   "metadata": {},
   "outputs": [],
   "source": [
    "# import the BeautifulSoup library so we can parse HTML and XML documents\n",
    "from bs4 import BeautifulSoup"
   ]
  },
  {
   "cell_type": "code",
   "execution_count": 5,
   "metadata": {},
   "outputs": [],
   "source": [
    "# we use Beautiful Soup to parse the HTML data we stored in our ‘url’ variable and store it in a new variable \n",
    "# called ‘soup’ in the Beautiful Soup format. Jupyter Notebook prefers we specify a parser format so we use \n",
    "# the “lxml” library option\n",
    "\n",
    "soup = BeautifulSoup(page, \"lxml\")"
   ]
  },
  {
   "cell_type": "code",
   "execution_count": 6,
   "metadata": {},
   "outputs": [],
   "source": [
    "# To get an idea of the structure of the underlying HTML in our web page, we can view the code in \n",
    "# two ways: a) right click on the web page itself and click View Source \n",
    "# or b) use Beautiful Soup’s prettify function and check it out right there in our Jupyter Notebook.\n",
    "\n",
    "#print(soup.prettify())"
   ]
  },
  {
   "cell_type": "code",
   "execution_count": 7,
   "metadata": {},
   "outputs": [],
   "source": [
    "# use the 'find_all' function to bring back all instances of the 'table' tag in the HTML \n",
    "# and store in 'all_tables' variable\n",
    "all_tables = soup.find_all(\"table\")\n",
    "#all_tables"
   ]
  },
  {
   "cell_type": "code",
   "execution_count": 8,
   "metadata": {},
   "outputs": [],
   "source": [
    "# Looking through the output of ”all_tables” we can again see that the class id of our chosen table \n",
    "# is ”wikitable sortable”. We can use this to get BS to only bring back the table data for this particular table \n",
    "# and keep that in a variable called ”right_table“\n",
    "right_table = soup.find('table', class_='wikitable sortable')\n",
    "#right_table"
   ]
  },
  {
   "cell_type": "code",
   "execution_count": 9,
   "metadata": {},
   "outputs": [],
   "source": [
    "# We know that the table is set up in rows (starting with <tr> tags) with the data sitting \n",
    "# within <td> tags in each row. We aren’t too worried about the header row with the <th> elements \n",
    "# as we know what each of the columns represent by looking at the table.\n",
    "\n",
    "# Let's start looping through the rows\n",
    "# There are three columns in our table that we want to scrape the data from so we will set up \n",
    "# three empty lists (A, B, and C) to store our data in.\n",
    "\n",
    "# To start with, we want to use the Beautiful Soup ‘find_all’ function again and set it to look for \n",
    "# the string ‘tr’. We will then set up a FOR loop for each row within that array and set Python to loop through \n",
    "# the rows, one by one.\n",
    "\n",
    "# Within the loop we are going to use find_all again to search each row for <td> tags with the ‘td’ string. \n",
    "# We will add all of these to a variable called ‘cells’ and then check to make sure that there are 3 items \n",
    "# in our ‘cells’ array (i.e. one for each column).\n",
    "\n",
    "# If there are then we use the find(text=True)) option to extract the content string from within each <td> element \n",
    "# in that row and add them to the A-C lists we created at the start of this step. Let’s have a look at the code:\n",
    "\n",
    "A = []\n",
    "B = []\n",
    "C = []\n",
    "\n",
    "for row in right_table.findAll('tr'):\n",
    "    cells = row.findAll('td')\n",
    "    if len(cells) == 3:\n",
    "        A.append(cells[0].find(text = True))\n",
    "        B.append(cells[1].find(text = True))\n",
    "        C.append(cells[2].find(text = True))"
   ]
  },
  {
   "cell_type": "code",
   "execution_count": 10,
   "metadata": {},
   "outputs": [
    {
     "name": "stdout",
     "output_type": "stream",
     "text": [
      "['M1A\\n', 'M2A\\n', 'M3A\\n', 'M4A\\n', 'M5A\\n', 'M6A\\n', 'M7A\\n', 'M8A\\n', 'M9A\\n', 'M1B\\n'] ['Not assigned\\n', 'Not assigned\\n', 'North York\\n', 'North York\\n', 'Downtown Toronto\\n', 'North York\\n', 'Downtown Toronto\\n', 'Not assigned\\n', 'Etobicoke\\n', 'Scarborough\\n'] ['Not assigned\\n', 'Not assigned\\n', 'Parkwoods\\n', 'Victoria Village\\n', 'Regent Park, Harbourfront\\n', 'Lawrence Manor, Lawrence Heights\\n', \"Queen's Park, Ontario Provincial Government\\n\", 'Not assigned\\n', 'Islington Avenue, Humber Valley Village\\n', 'Malvern, Rouge\\n']\n"
     ]
    }
   ],
   "source": [
    "print(A[:10], B[:10], C[:10])"
   ]
  },
  {
   "cell_type": "markdown",
   "metadata": {},
   "source": [
    "###### Achtung! "
   ]
  },
  {
   "cell_type": "markdown",
   "metadata": {},
   "source": [
    "We see the unwanted \\n near each item in the lists. This is a Python new line character. Let's remove it before converting data into pandas data frame."
   ]
  },
  {
   "cell_type": "code",
   "execution_count": 11,
   "metadata": {},
   "outputs": [
    {
     "name": "stdout",
     "output_type": "stream",
     "text": [
      "['M1A', 'M2A', 'M3A', 'M4A', 'M5A', 'M6A', 'M7A', 'M8A', 'M9A', 'M1B'] ['Not assigned', 'Not assigned', 'North York', 'North York', 'Downtown Toronto', 'North York', 'Downtown Toronto', 'Not assigned', 'Etobicoke', 'Scarborough'] ['Not assigned', 'Not assigned', 'Parkwoods', 'Victoria Village', 'Regent Park, Harbourfront', 'Lawrence Manor, Lawrence Heights', \"Queen's Park, Ontario Provincial Government\", 'Not assigned', 'Islington Avenue, Humber Valley Village', 'Malvern, Rouge']\n"
     ]
    }
   ],
   "source": [
    "A_clean = []\n",
    "B_clean = []\n",
    "C_clean = []\n",
    "\n",
    "for x in A:\n",
    "    y = x.strip('\\n')\n",
    "    A_clean.append(y)\n",
    "\n",
    "for x in B:\n",
    "    y = x.strip('\\n')\n",
    "    B_clean.append(y)\n",
    "    \n",
    "for x in C:\n",
    "    y = x.strip('\\n')\n",
    "    C_clean.append(y)\n",
    "    \n",
    "print(A_clean[:10], B_clean[:10], C_clean[:10])"
   ]
  },
  {
   "cell_type": "markdown",
   "metadata": {},
   "source": [
    "Step 3. Transform the data into a pandas dataframe"
   ]
  },
  {
   "cell_type": "code",
   "execution_count": 12,
   "metadata": {
    "scrolled": true
   },
   "outputs": [
    {
     "data": {
      "text/html": [
       "<div>\n",
       "<style scoped>\n",
       "    .dataframe tbody tr th:only-of-type {\n",
       "        vertical-align: middle;\n",
       "    }\n",
       "\n",
       "    .dataframe tbody tr th {\n",
       "        vertical-align: top;\n",
       "    }\n",
       "\n",
       "    .dataframe thead th {\n",
       "        text-align: right;\n",
       "    }\n",
       "</style>\n",
       "<table border=\"1\" class=\"dataframe\">\n",
       "  <thead>\n",
       "    <tr style=\"text-align: right;\">\n",
       "      <th></th>\n",
       "      <th>Postal_Code</th>\n",
       "      <th>Borough</th>\n",
       "      <th>Neighbourhood</th>\n",
       "    </tr>\n",
       "  </thead>\n",
       "  <tbody>\n",
       "    <tr>\n",
       "      <th>0</th>\n",
       "      <td>M1A</td>\n",
       "      <td>Not assigned</td>\n",
       "      <td>Not assigned</td>\n",
       "    </tr>\n",
       "    <tr>\n",
       "      <th>1</th>\n",
       "      <td>M2A</td>\n",
       "      <td>Not assigned</td>\n",
       "      <td>Not assigned</td>\n",
       "    </tr>\n",
       "    <tr>\n",
       "      <th>2</th>\n",
       "      <td>M3A</td>\n",
       "      <td>North York</td>\n",
       "      <td>Parkwoods</td>\n",
       "    </tr>\n",
       "    <tr>\n",
       "      <th>3</th>\n",
       "      <td>M4A</td>\n",
       "      <td>North York</td>\n",
       "      <td>Victoria Village</td>\n",
       "    </tr>\n",
       "    <tr>\n",
       "      <th>4</th>\n",
       "      <td>M5A</td>\n",
       "      <td>Downtown Toronto</td>\n",
       "      <td>Regent Park, Harbourfront</td>\n",
       "    </tr>\n",
       "    <tr>\n",
       "      <th>...</th>\n",
       "      <td>...</td>\n",
       "      <td>...</td>\n",
       "      <td>...</td>\n",
       "    </tr>\n",
       "    <tr>\n",
       "      <th>175</th>\n",
       "      <td>M5Z</td>\n",
       "      <td>Not assigned</td>\n",
       "      <td>Not assigned</td>\n",
       "    </tr>\n",
       "    <tr>\n",
       "      <th>176</th>\n",
       "      <td>M6Z</td>\n",
       "      <td>Not assigned</td>\n",
       "      <td>Not assigned</td>\n",
       "    </tr>\n",
       "    <tr>\n",
       "      <th>177</th>\n",
       "      <td>M7Z</td>\n",
       "      <td>Not assigned</td>\n",
       "      <td>Not assigned</td>\n",
       "    </tr>\n",
       "    <tr>\n",
       "      <th>178</th>\n",
       "      <td>M8Z</td>\n",
       "      <td>Etobicoke</td>\n",
       "      <td>Mimico NW, The Queensway West, South of Bloor,...</td>\n",
       "    </tr>\n",
       "    <tr>\n",
       "      <th>179</th>\n",
       "      <td>M9Z</td>\n",
       "      <td>Not assigned</td>\n",
       "      <td>Not assigned</td>\n",
       "    </tr>\n",
       "  </tbody>\n",
       "</table>\n",
       "<p>180 rows × 3 columns</p>\n",
       "</div>"
      ],
      "text/plain": [
       "    Postal_Code           Borough  \\\n",
       "0           M1A      Not assigned   \n",
       "1           M2A      Not assigned   \n",
       "2           M3A        North York   \n",
       "3           M4A        North York   \n",
       "4           M5A  Downtown Toronto   \n",
       "..          ...               ...   \n",
       "175         M5Z      Not assigned   \n",
       "176         M6Z      Not assigned   \n",
       "177         M7Z      Not assigned   \n",
       "178         M8Z         Etobicoke   \n",
       "179         M9Z      Not assigned   \n",
       "\n",
       "                                         Neighbourhood  \n",
       "0                                         Not assigned  \n",
       "1                                         Not assigned  \n",
       "2                                            Parkwoods  \n",
       "3                                     Victoria Village  \n",
       "4                            Regent Park, Harbourfront  \n",
       "..                                                 ...  \n",
       "175                                       Not assigned  \n",
       "176                                       Not assigned  \n",
       "177                                       Not assigned  \n",
       "178  Mimico NW, The Queensway West, South of Bloor,...  \n",
       "179                                       Not assigned  \n",
       "\n",
       "[180 rows x 3 columns]"
      ]
     },
     "execution_count": 12,
     "metadata": {},
     "output_type": "execute_result"
    }
   ],
   "source": [
    "# Pandas lets us convert lists into dataframes which are 2 dimensional data structures with rows and \n",
    "# columns, very much like spreadsheets or SQL tables.\n",
    "\n",
    "# We’ll import pandas and create a dataframe with it, assigning each of the lists A-C into a column \n",
    "# with the name of our source table columns i.e. Postal_Code, Borough, Neighbourhood.\n",
    "\n",
    "import pandas as pd\n",
    "df = pd.DataFrame(A_clean,columns=['Postal_Code'])\n",
    "df['Borough'] = B_clean\n",
    "df['Neighbourhood'] = C_clean\n",
    "df"
   ]
  },
  {
   "cell_type": "markdown",
   "metadata": {},
   "source": [
    "Step 4. Clean the data"
   ]
  },
  {
   "cell_type": "code",
   "execution_count": 13,
   "metadata": {},
   "outputs": [
    {
     "data": {
      "text/html": [
       "<div>\n",
       "<style scoped>\n",
       "    .dataframe tbody tr th:only-of-type {\n",
       "        vertical-align: middle;\n",
       "    }\n",
       "\n",
       "    .dataframe tbody tr th {\n",
       "        vertical-align: top;\n",
       "    }\n",
       "\n",
       "    .dataframe thead th {\n",
       "        text-align: right;\n",
       "    }\n",
       "</style>\n",
       "<table border=\"1\" class=\"dataframe\">\n",
       "  <thead>\n",
       "    <tr style=\"text-align: right;\">\n",
       "      <th></th>\n",
       "      <th>Postal_Code</th>\n",
       "      <th>Borough</th>\n",
       "      <th>Neighbourhood</th>\n",
       "    </tr>\n",
       "  </thead>\n",
       "  <tbody>\n",
       "    <tr>\n",
       "      <th>2</th>\n",
       "      <td>M3A</td>\n",
       "      <td>North York</td>\n",
       "      <td>Parkwoods</td>\n",
       "    </tr>\n",
       "    <tr>\n",
       "      <th>3</th>\n",
       "      <td>M4A</td>\n",
       "      <td>North York</td>\n",
       "      <td>Victoria Village</td>\n",
       "    </tr>\n",
       "    <tr>\n",
       "      <th>4</th>\n",
       "      <td>M5A</td>\n",
       "      <td>Downtown Toronto</td>\n",
       "      <td>Regent Park, Harbourfront</td>\n",
       "    </tr>\n",
       "    <tr>\n",
       "      <th>5</th>\n",
       "      <td>M6A</td>\n",
       "      <td>North York</td>\n",
       "      <td>Lawrence Manor, Lawrence Heights</td>\n",
       "    </tr>\n",
       "    <tr>\n",
       "      <th>6</th>\n",
       "      <td>M7A</td>\n",
       "      <td>Downtown Toronto</td>\n",
       "      <td>Queen's Park, Ontario Provincial Government</td>\n",
       "    </tr>\n",
       "    <tr>\n",
       "      <th>...</th>\n",
       "      <td>...</td>\n",
       "      <td>...</td>\n",
       "      <td>...</td>\n",
       "    </tr>\n",
       "    <tr>\n",
       "      <th>160</th>\n",
       "      <td>M8X</td>\n",
       "      <td>Etobicoke</td>\n",
       "      <td>The Kingsway, Montgomery Road, Old Mill North</td>\n",
       "    </tr>\n",
       "    <tr>\n",
       "      <th>165</th>\n",
       "      <td>M4Y</td>\n",
       "      <td>Downtown Toronto</td>\n",
       "      <td>Church and Wellesley</td>\n",
       "    </tr>\n",
       "    <tr>\n",
       "      <th>168</th>\n",
       "      <td>M7Y</td>\n",
       "      <td>East Toronto</td>\n",
       "      <td>Business reply mail Processing Centre, South C...</td>\n",
       "    </tr>\n",
       "    <tr>\n",
       "      <th>169</th>\n",
       "      <td>M8Y</td>\n",
       "      <td>Etobicoke</td>\n",
       "      <td>Old Mill South, King's Mill Park, Sunnylea, Hu...</td>\n",
       "    </tr>\n",
       "    <tr>\n",
       "      <th>178</th>\n",
       "      <td>M8Z</td>\n",
       "      <td>Etobicoke</td>\n",
       "      <td>Mimico NW, The Queensway West, South of Bloor,...</td>\n",
       "    </tr>\n",
       "  </tbody>\n",
       "</table>\n",
       "<p>103 rows × 3 columns</p>\n",
       "</div>"
      ],
      "text/plain": [
       "    Postal_Code           Borough  \\\n",
       "2           M3A        North York   \n",
       "3           M4A        North York   \n",
       "4           M5A  Downtown Toronto   \n",
       "5           M6A        North York   \n",
       "6           M7A  Downtown Toronto   \n",
       "..          ...               ...   \n",
       "160         M8X         Etobicoke   \n",
       "165         M4Y  Downtown Toronto   \n",
       "168         M7Y      East Toronto   \n",
       "169         M8Y         Etobicoke   \n",
       "178         M8Z         Etobicoke   \n",
       "\n",
       "                                         Neighbourhood  \n",
       "2                                            Parkwoods  \n",
       "3                                     Victoria Village  \n",
       "4                            Regent Park, Harbourfront  \n",
       "5                     Lawrence Manor, Lawrence Heights  \n",
       "6          Queen's Park, Ontario Provincial Government  \n",
       "..                                                 ...  \n",
       "160      The Kingsway, Montgomery Road, Old Mill North  \n",
       "165                               Church and Wellesley  \n",
       "168  Business reply mail Processing Centre, South C...  \n",
       "169  Old Mill South, King's Mill Park, Sunnylea, Hu...  \n",
       "178  Mimico NW, The Queensway West, South of Bloor,...  \n",
       "\n",
       "[103 rows x 3 columns]"
      ]
     },
     "execution_count": 13,
     "metadata": {},
     "output_type": "execute_result"
    }
   ],
   "source": [
    "# Drop raws if 'Borough' column is 'Not assigned'\n",
    "Not_assigned = df[df['Borough'] == 'Not assigned'].index\n",
    "df.drop(Not_assigned, inplace = True)\n",
    "df"
   ]
  },
  {
   "cell_type": "code",
   "execution_count": 14,
   "metadata": {},
   "outputs": [
    {
     "data": {
      "text/html": [
       "<div>\n",
       "<style scoped>\n",
       "    .dataframe tbody tr th:only-of-type {\n",
       "        vertical-align: middle;\n",
       "    }\n",
       "\n",
       "    .dataframe tbody tr th {\n",
       "        vertical-align: top;\n",
       "    }\n",
       "\n",
       "    .dataframe thead th {\n",
       "        text-align: right;\n",
       "    }\n",
       "</style>\n",
       "<table border=\"1\" class=\"dataframe\">\n",
       "  <thead>\n",
       "    <tr style=\"text-align: right;\">\n",
       "      <th></th>\n",
       "      <th>Postal_Code</th>\n",
       "      <th>Borough</th>\n",
       "      <th>Neighbourhood</th>\n",
       "    </tr>\n",
       "  </thead>\n",
       "  <tbody>\n",
       "    <tr>\n",
       "      <th>0</th>\n",
       "      <td>M3A</td>\n",
       "      <td>North York</td>\n",
       "      <td>Parkwoods</td>\n",
       "    </tr>\n",
       "    <tr>\n",
       "      <th>1</th>\n",
       "      <td>M4A</td>\n",
       "      <td>North York</td>\n",
       "      <td>Victoria Village</td>\n",
       "    </tr>\n",
       "    <tr>\n",
       "      <th>2</th>\n",
       "      <td>M5A</td>\n",
       "      <td>Downtown Toronto</td>\n",
       "      <td>Regent Park, Harbourfront</td>\n",
       "    </tr>\n",
       "    <tr>\n",
       "      <th>3</th>\n",
       "      <td>M6A</td>\n",
       "      <td>North York</td>\n",
       "      <td>Lawrence Manor, Lawrence Heights</td>\n",
       "    </tr>\n",
       "    <tr>\n",
       "      <th>4</th>\n",
       "      <td>M7A</td>\n",
       "      <td>Downtown Toronto</td>\n",
       "      <td>Queen's Park, Ontario Provincial Government</td>\n",
       "    </tr>\n",
       "    <tr>\n",
       "      <th>...</th>\n",
       "      <td>...</td>\n",
       "      <td>...</td>\n",
       "      <td>...</td>\n",
       "    </tr>\n",
       "    <tr>\n",
       "      <th>98</th>\n",
       "      <td>M8X</td>\n",
       "      <td>Etobicoke</td>\n",
       "      <td>The Kingsway, Montgomery Road, Old Mill North</td>\n",
       "    </tr>\n",
       "    <tr>\n",
       "      <th>99</th>\n",
       "      <td>M4Y</td>\n",
       "      <td>Downtown Toronto</td>\n",
       "      <td>Church and Wellesley</td>\n",
       "    </tr>\n",
       "    <tr>\n",
       "      <th>100</th>\n",
       "      <td>M7Y</td>\n",
       "      <td>East Toronto</td>\n",
       "      <td>Business reply mail Processing Centre, South C...</td>\n",
       "    </tr>\n",
       "    <tr>\n",
       "      <th>101</th>\n",
       "      <td>M8Y</td>\n",
       "      <td>Etobicoke</td>\n",
       "      <td>Old Mill South, King's Mill Park, Sunnylea, Hu...</td>\n",
       "    </tr>\n",
       "    <tr>\n",
       "      <th>102</th>\n",
       "      <td>M8Z</td>\n",
       "      <td>Etobicoke</td>\n",
       "      <td>Mimico NW, The Queensway West, South of Bloor,...</td>\n",
       "    </tr>\n",
       "  </tbody>\n",
       "</table>\n",
       "<p>103 rows × 3 columns</p>\n",
       "</div>"
      ],
      "text/plain": [
       "    Postal_Code           Borough  \\\n",
       "0           M3A        North York   \n",
       "1           M4A        North York   \n",
       "2           M5A  Downtown Toronto   \n",
       "3           M6A        North York   \n",
       "4           M7A  Downtown Toronto   \n",
       "..          ...               ...   \n",
       "98          M8X         Etobicoke   \n",
       "99          M4Y  Downtown Toronto   \n",
       "100         M7Y      East Toronto   \n",
       "101         M8Y         Etobicoke   \n",
       "102         M8Z         Etobicoke   \n",
       "\n",
       "                                         Neighbourhood  \n",
       "0                                            Parkwoods  \n",
       "1                                     Victoria Village  \n",
       "2                            Regent Park, Harbourfront  \n",
       "3                     Lawrence Manor, Lawrence Heights  \n",
       "4          Queen's Park, Ontario Provincial Government  \n",
       "..                                                 ...  \n",
       "98       The Kingsway, Montgomery Road, Old Mill North  \n",
       "99                                Church and Wellesley  \n",
       "100  Business reply mail Processing Centre, South C...  \n",
       "101  Old Mill South, King's Mill Park, Sunnylea, Hu...  \n",
       "102  Mimico NW, The Queensway West, South of Bloor,...  \n",
       "\n",
       "[103 rows x 3 columns]"
      ]
     },
     "execution_count": 14,
     "metadata": {},
     "output_type": "execute_result"
    }
   ],
   "source": [
    "# reset the index and assigned it to df2, main dataframe we are going to work with.\n",
    "df2 = df.reset_index(drop = True)\n",
    "df2"
   ]
  },
  {
   "cell_type": "code",
   "execution_count": 15,
   "metadata": {},
   "outputs": [
    {
     "name": "stdout",
     "output_type": "stream",
     "text": [
      "Element does not exists in Dataframe\n"
     ]
    }
   ],
   "source": [
    "# Assignment: If a cell has a borough but a Not assigned neighborhood, then the neighborhood will be \n",
    "# the same as the borough.\n",
    "\n",
    "# Let's check if there are many Not assigned neighborhoods in dataframe.\n",
    "if 'Not assigned' not in df2.values:\n",
    "    print('Element does not exists in Dataframe')"
   ]
  },
  {
   "cell_type": "code",
   "execution_count": 16,
   "metadata": {},
   "outputs": [
    {
     "data": {
      "text/plain": [
       "(103, 3)"
      ]
     },
     "execution_count": 16,
     "metadata": {},
     "output_type": "execute_result"
    }
   ],
   "source": [
    "# Use the .shape method to print the number of rows of your dataframe.\n",
    "df2.shape"
   ]
  },
  {
   "cell_type": "markdown",
   "metadata": {},
   "source": [
    "### PART 2 (QUESTION 2)\n",
    "#### Use the Geocoder Python package to add the latitude and the longitude coordinates of each neighborhood to the dataframe."
   ]
  },
  {
   "cell_type": "markdown",
   "metadata": {},
   "source": [
    "Step 1. Get geospatial data"
   ]
  },
  {
   "cell_type": "code",
   "execution_count": 17,
   "metadata": {},
   "outputs": [
    {
     "name": "stdout",
     "output_type": "stream",
     "text": [
      "M3A [43.75245000000007, -79.32990999999998]\n",
      "M4A [43.73057000000006, -79.31305999999995]\n",
      "M5A [43.65512000000007, -79.36263999999994]\n",
      "M6A [43.72327000000007, -79.45041999999995]\n",
      "M7A [43.66253000000006, -79.39187999999996]\n",
      "M9A [43.662630000000036, -79.52830999999998]\n",
      "M1B [43.811390000000074, -79.19661999999994]\n",
      "M3B [43.74923000000007, -79.36185999999998]\n",
      "M4B [43.70718000000005, -79.31191999999999]\n",
      "M5B [43.65739000000008, -79.37803999999994]\n",
      "M6B [43.70687000000004, -79.44811999999996]\n",
      "M9B [43.65034000000003, -79.55361999999997]\n",
      "M1C [43.78574000000003, -79.15874999999994]\n",
      "M3C [43.72168000000005, -79.34351999999996]\n",
      "M4C [43.68970000000007, -79.30681999999996]\n",
      "M5C [43.65215000000006, -79.37586999999996]\n",
      "M6C [43.69211000000007, -79.43035999999995]\n",
      "M9C [43.64857000000006, -79.57824999999997]\n",
      "M1E [43.765750000000025, -79.17469999999997]\n",
      "M4E [43.67709000000008, -79.29546999999997]\n",
      "M5E [43.64536000000004, -79.37305999999995]\n",
      "M6E [43.68784000000005, -79.45045999999996]\n",
      "M1G [43.76812000000007, -79.21760999999998]\n",
      "M4G [43.709020000000066, -79.36348999999996]\n",
      "M5G [43.65609000000006, -79.38492999999994]\n",
      "M6G [43.668690000000026, -79.42070999999999]\n",
      "M1H [43.76944000000003, -79.23891999999995]\n",
      "M2H [43.80225000000007, -79.35557999999997]\n",
      "M3H [43.75788000000006, -79.44846999999999]\n",
      "M4H [43.70142000000004, -79.34904999999998]\n",
      "M5H [43.64970000000005, -79.38257999999996]\n",
      "M6H [43.665050000000065, -79.43890999999996]\n",
      "M1J [43.74446000000006, -79.23116999999996]\n",
      "M2J [43.780970000000025, -79.34780999999998]\n",
      "M3J [43.76476000000008, -79.48797999999994]\n",
      "M4J [43.68811000000005, -79.33417999999995]\n",
      "M5J [43.64285000000007, -79.38075999999995]\n",
      "M6J [43.64848000000006, -79.41773999999998]\n",
      "M1K [43.725820000000056, -79.26460999999995]\n",
      "M2K [43.781120000000044, -79.38059999999996]\n",
      "M3K [43.73384000000004, -79.46827999999994]\n",
      "M4K [43.68375000000003, -79.35511999999994]\n",
      "M5K [43.64710000000008, -79.38152999999994]\n",
      "M6K [43.639410000000055, -79.42675999999994]\n",
      "M1L [43.71289000000007, -79.28505999999999]\n",
      "M2L [43.756980000000055, -79.38059999999996]\n",
      "M3L [43.720710000000054, -79.51700999999997]\n",
      "M4L [43.667970000000025, -79.31466999999998]\n",
      "M5L [43.64840000000004, -79.37913999999995]\n",
      "M6L [43.71381000000008, -79.48873999999995]\n",
      "M9L [43.75948000000005, -79.55706999999995]\n",
      "M1M [43.72360000000003, -79.23495999999994]\n",
      "M2M [43.79182000000003, -79.41371999999996]\n",
      "M3M [43.73224000000005, -79.50177999999994]\n",
      "M4M [43.66213000000005, -79.33496999999994]\n",
      "M5M [43.73545000000007, -79.41915999999998]\n",
      "M6M [43.695170000000076, -79.48396999999994]\n",
      "M9M [43.733670000000075, -79.53768999999994]\n",
      "M1N [43.695100000000025, -79.26465999999994]\n",
      "M2N [43.76774000000006, -79.40727999999996]\n",
      "M3N [43.75478000000004, -79.51958999999994]\n",
      "M4N [43.72843000000006, -79.38712999999996]\n",
      "M5N [43.71208000000007, -79.41847999999999]\n",
      "M6N [43.67646000000008, -79.48271999999997]\n",
      "M9N [43.705070000000035, -79.51803999999998]\n",
      "M1P [43.75998000000004, -79.26939999999996]\n",
      "M2P [43.747780000000034, -79.40032999999994]\n",
      "M4P [43.71276000000006, -79.38850999999994]\n",
      "M5P [43.69479000000007, -79.41439999999994]\n",
      "M6P [43.659730000000025, -79.46280999999993]\n",
      "M9P [43.696300000000065, -79.52925999999997]\n",
      "M1R [43.75075000000004, -79.30053999999996]\n",
      "M2R [43.77989000000008, -79.44677999999999]\n",
      "M4R [43.71458000000007, -79.40667999999994]\n",
      "M5R [43.674840000000074, -79.40451999999993]\n",
      "M6R [43.64777000000004, -79.44988999999998]\n",
      "M7R [43.648690000000045, -79.38543999999996]\n",
      "M9R [43.68681000000004, -79.55727999999993]\n",
      "M1S [43.794520000000034, -79.26707999999996]\n",
      "M4S [43.703400000000045, -79.38658999999996]\n",
      "M5S [43.663110000000074, -79.40179999999998]\n",
      "M6S [43.649820000000034, -79.47547999999995]\n",
      "M1T [43.784910000000025, -79.29721999999998]\n",
      "M4T [43.690480000000036, -79.38317999999998]\n",
      "M5T [43.65351000000004, -79.39721999999995]\n",
      "M1V [43.817810000000065, -79.28043999999994]\n",
      "M4V [43.68568000000005, -79.40236999999996]\n",
      "M5V [43.640820000000076, -79.39817999999997]\n",
      "M8V [43.60987000000006, -79.49808999999993]\n",
      "M9V [43.744530000000054, -79.58623999999998]\n",
      "M1W [43.80079000000006, -79.32161999999994]\n",
      "M4W [43.68190000000004, -79.37828999999994]\n",
      "M5W [43.648690000000045, -79.38543999999996]\n",
      "M8W [43.601240000000075, -79.53878999999995]\n",
      "M9W [43.71174000000008, -79.57940999999994]\n",
      "M1X [43.83412000000004, -79.21667999999994]\n",
      "M4X [43.667880000000025, -79.36648999999994]\n",
      "M5X [43.64828000000006, -79.38145999999995]\n",
      "M8X [43.65319000000005, -79.51112999999998]\n",
      "M4Y [43.66659000000004, -79.38132999999993]\n",
      "M7Y [43.648690000000045, -79.38543999999996]\n",
      "M8Y [43.632780000000025, -79.48944999999998]\n",
      "M8Z [43.62513000000007, -79.52680999999995]\n"
     ]
    }
   ],
   "source": [
    "# import geocoder\n",
    "import geocoder \n",
    "\n",
    "latitude=[]\n",
    "longitude=[]\n",
    "\n",
    "# google API doesn't work, I use arcgis API instead.\n",
    "for postal_code in df2['Postal_Code']:\n",
    "    g = geocoder.arcgis('{}, Toronto, Ontario'.format(postal_code))\n",
    "    print(postal_code, g.latlng)\n",
    "    while (g.latlng is None):\n",
    "        g = geocoder.arcgis('{}, Toronto, Ontario'.format(postal_code))\n",
    "        print(postal_code, g.latlng)\n",
    "    latlng = g.latlng\n",
    "    latitude.append(latlng[0])\n",
    "    longitude.append(latlng[1])"
   ]
  },
  {
   "cell_type": "markdown",
   "metadata": {},
   "source": [
    "Step 2. Add new geospatial data to our dataframe df2"
   ]
  },
  {
   "cell_type": "code",
   "execution_count": 18,
   "metadata": {},
   "outputs": [
    {
     "data": {
      "text/html": [
       "<div>\n",
       "<style scoped>\n",
       "    .dataframe tbody tr th:only-of-type {\n",
       "        vertical-align: middle;\n",
       "    }\n",
       "\n",
       "    .dataframe tbody tr th {\n",
       "        vertical-align: top;\n",
       "    }\n",
       "\n",
       "    .dataframe thead th {\n",
       "        text-align: right;\n",
       "    }\n",
       "</style>\n",
       "<table border=\"1\" class=\"dataframe\">\n",
       "  <thead>\n",
       "    <tr style=\"text-align: right;\">\n",
       "      <th></th>\n",
       "      <th>Postal_Code</th>\n",
       "      <th>Borough</th>\n",
       "      <th>Neighbourhood</th>\n",
       "      <th>Latitude</th>\n",
       "      <th>Longitude</th>\n",
       "    </tr>\n",
       "  </thead>\n",
       "  <tbody>\n",
       "    <tr>\n",
       "      <th>0</th>\n",
       "      <td>M3A</td>\n",
       "      <td>North York</td>\n",
       "      <td>Parkwoods</td>\n",
       "      <td>43.75245</td>\n",
       "      <td>-79.32991</td>\n",
       "    </tr>\n",
       "    <tr>\n",
       "      <th>1</th>\n",
       "      <td>M4A</td>\n",
       "      <td>North York</td>\n",
       "      <td>Victoria Village</td>\n",
       "      <td>43.73057</td>\n",
       "      <td>-79.31306</td>\n",
       "    </tr>\n",
       "    <tr>\n",
       "      <th>2</th>\n",
       "      <td>M5A</td>\n",
       "      <td>Downtown Toronto</td>\n",
       "      <td>Regent Park, Harbourfront</td>\n",
       "      <td>43.65512</td>\n",
       "      <td>-79.36264</td>\n",
       "    </tr>\n",
       "    <tr>\n",
       "      <th>3</th>\n",
       "      <td>M6A</td>\n",
       "      <td>North York</td>\n",
       "      <td>Lawrence Manor, Lawrence Heights</td>\n",
       "      <td>43.72327</td>\n",
       "      <td>-79.45042</td>\n",
       "    </tr>\n",
       "    <tr>\n",
       "      <th>4</th>\n",
       "      <td>M7A</td>\n",
       "      <td>Downtown Toronto</td>\n",
       "      <td>Queen's Park, Ontario Provincial Government</td>\n",
       "      <td>43.66253</td>\n",
       "      <td>-79.39188</td>\n",
       "    </tr>\n",
       "    <tr>\n",
       "      <th>...</th>\n",
       "      <td>...</td>\n",
       "      <td>...</td>\n",
       "      <td>...</td>\n",
       "      <td>...</td>\n",
       "      <td>...</td>\n",
       "    </tr>\n",
       "    <tr>\n",
       "      <th>98</th>\n",
       "      <td>M8X</td>\n",
       "      <td>Etobicoke</td>\n",
       "      <td>The Kingsway, Montgomery Road, Old Mill North</td>\n",
       "      <td>43.65319</td>\n",
       "      <td>-79.51113</td>\n",
       "    </tr>\n",
       "    <tr>\n",
       "      <th>99</th>\n",
       "      <td>M4Y</td>\n",
       "      <td>Downtown Toronto</td>\n",
       "      <td>Church and Wellesley</td>\n",
       "      <td>43.66659</td>\n",
       "      <td>-79.38133</td>\n",
       "    </tr>\n",
       "    <tr>\n",
       "      <th>100</th>\n",
       "      <td>M7Y</td>\n",
       "      <td>East Toronto</td>\n",
       "      <td>Business reply mail Processing Centre, South C...</td>\n",
       "      <td>43.64869</td>\n",
       "      <td>-79.38544</td>\n",
       "    </tr>\n",
       "    <tr>\n",
       "      <th>101</th>\n",
       "      <td>M8Y</td>\n",
       "      <td>Etobicoke</td>\n",
       "      <td>Old Mill South, King's Mill Park, Sunnylea, Hu...</td>\n",
       "      <td>43.63278</td>\n",
       "      <td>-79.48945</td>\n",
       "    </tr>\n",
       "    <tr>\n",
       "      <th>102</th>\n",
       "      <td>M8Z</td>\n",
       "      <td>Etobicoke</td>\n",
       "      <td>Mimico NW, The Queensway West, South of Bloor,...</td>\n",
       "      <td>43.62513</td>\n",
       "      <td>-79.52681</td>\n",
       "    </tr>\n",
       "  </tbody>\n",
       "</table>\n",
       "<p>103 rows × 5 columns</p>\n",
       "</div>"
      ],
      "text/plain": [
       "    Postal_Code           Borough  \\\n",
       "0           M3A        North York   \n",
       "1           M4A        North York   \n",
       "2           M5A  Downtown Toronto   \n",
       "3           M6A        North York   \n",
       "4           M7A  Downtown Toronto   \n",
       "..          ...               ...   \n",
       "98          M8X         Etobicoke   \n",
       "99          M4Y  Downtown Toronto   \n",
       "100         M7Y      East Toronto   \n",
       "101         M8Y         Etobicoke   \n",
       "102         M8Z         Etobicoke   \n",
       "\n",
       "                                         Neighbourhood  Latitude  Longitude  \n",
       "0                                            Parkwoods  43.75245  -79.32991  \n",
       "1                                     Victoria Village  43.73057  -79.31306  \n",
       "2                            Regent Park, Harbourfront  43.65512  -79.36264  \n",
       "3                     Lawrence Manor, Lawrence Heights  43.72327  -79.45042  \n",
       "4          Queen's Park, Ontario Provincial Government  43.66253  -79.39188  \n",
       "..                                                 ...       ...        ...  \n",
       "98       The Kingsway, Montgomery Road, Old Mill North  43.65319  -79.51113  \n",
       "99                                Church and Wellesley  43.66659  -79.38133  \n",
       "100  Business reply mail Processing Centre, South C...  43.64869  -79.38544  \n",
       "101  Old Mill South, King's Mill Park, Sunnylea, Hu...  43.63278  -79.48945  \n",
       "102  Mimico NW, The Queensway West, South of Bloor,...  43.62513  -79.52681  \n",
       "\n",
       "[103 rows x 5 columns]"
      ]
     },
     "execution_count": 18,
     "metadata": {},
     "output_type": "execute_result"
    }
   ],
   "source": [
    "df2['Latitude'] = latitude\n",
    "df2['Longitude'] = longitude\n",
    "df2"
   ]
  },
  {
   "cell_type": "code",
   "execution_count": 19,
   "metadata": {},
   "outputs": [
    {
     "data": {
      "text/plain": [
       "(103, 5)"
      ]
     },
     "execution_count": 19,
     "metadata": {},
     "output_type": "execute_result"
    }
   ],
   "source": [
    "# Use the .shape method to print the number of rows of your dataframe.\n",
    "df2.shape"
   ]
  },
  {
   "cell_type": "markdown",
   "metadata": {},
   "source": [
    "### PART 3 (QUESTION 3)\n",
    "#### Explore and cluster the neighborhoods in Toronto. "
   ]
  },
  {
   "cell_type": "markdown",
   "metadata": {},
   "source": [
    "Step 1. Create a map of Toronto with neighborhoods superimposed on top."
   ]
  },
  {
   "cell_type": "code",
   "execution_count": 20,
   "metadata": {},
   "outputs": [
    {
     "name": "stdout",
     "output_type": "stream",
     "text": [
      "The dataframe has 10 boroughs and 99 neighborhoods.\n"
     ]
    }
   ],
   "source": [
    "# Print number of unique boroughs and neighborhoods in Toronto\n",
    "print('The dataframe has {} boroughs and {} neighborhoods.'.format(\n",
    "        len(df2['Borough'].unique()),\n",
    "        len(df2['Neighbourhood'].unique())\n",
    "    )\n",
    ")"
   ]
  },
  {
   "cell_type": "code",
   "execution_count": 21,
   "metadata": {},
   "outputs": [
    {
     "name": "stdout",
     "output_type": "stream",
     "text": [
      "Collecting package metadata (current_repodata.json): done\n",
      "Solving environment: done\n",
      "\n",
      "# All requested packages already installed.\n",
      "\n",
      "The geograpical coordinate of Toronto are 43.6534817, -79.3839347.\n"
     ]
    }
   ],
   "source": [
    "# Use geopy library to get the latitude and longitude values of Toronto\n",
    "\n",
    "!conda install -c conda-forge geopy --yes\n",
    "from geopy.geocoders import Nominatim # convert an address into latitude and longitude values\n",
    "\n",
    "address = 'Toronto, Ontario'\n",
    "\n",
    "geolocator = Nominatim(user_agent=\"toronto_explorer\")\n",
    "location = geolocator.geocode(address)\n",
    "latitude = location.latitude\n",
    "longitude = location.longitude\n",
    "print('The geograpical coordinate of Toronto are {}, {}.'.format(latitude, longitude))"
   ]
  },
  {
   "cell_type": "code",
   "execution_count": 22,
   "metadata": {},
   "outputs": [
    {
     "name": "stdout",
     "output_type": "stream",
     "text": [
      "Collecting package metadata (current_repodata.json): done\n",
      "Solving environment: done\n",
      "\n",
      "# All requested packages already installed.\n",
      "\n"
     ]
    },
    {
     "data": {
      "text/html": [
       "<div style=\"width:100%;\"><div style=\"position:relative;width:100%;height:0;padding-bottom:60%;\"><span style=\"color:#565656\">Make this Notebook Trusted to load map: File -> Trust Notebook</span><iframe src=\"about:blank\" style=\"position:absolute;width:100%;height:100%;left:0;top:0;border:none !important;\" data-html=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 onload=\"this.contentDocument.open();this.contentDocument.write(atob(this.getAttribute('data-html')));this.contentDocument.close();\" allowfullscreen webkitallowfullscreen mozallowfullscreen></iframe></div></div>"
      ],
      "text/plain": [
       "<folium.folium.Map at 0x7fe849e53150>"
      ]
     },
     "execution_count": 22,
     "metadata": {},
     "output_type": "execute_result"
    }
   ],
   "source": [
    "# Install Folium to visualize the map of Toronto\n",
    "!conda install -c conda-forge folium=0.5.0 --yes\n",
    "import folium # map rendering library\n",
    "\n",
    "# create map of Toronto using latitude and longitude values\n",
    "map_toronto = folium.Map(location=[latitude, longitude], zoom_start=10)\n",
    "\n",
    "# add markers to map\n",
    "for lat, lng, borough, neighbourhood in zip(df2['Latitude'], df2['Longitude'], df2['Borough'], df2['Neighbourhood']):\n",
    "    label = '{}, {}'.format(neighbourhood, borough)\n",
    "    label = folium.Popup(label, parse_html=True)\n",
    "    folium.CircleMarker(\n",
    "        [lat, lng],\n",
    "        radius=5,\n",
    "        popup=label,\n",
    "        color='blue',\n",
    "        fill=True,\n",
    "        fill_color='#3186cc',\n",
    "        fill_opacity=0.7,\n",
    "        parse_html=False).add_to(map_toronto)  \n",
    "    \n",
    "map_toronto"
   ]
  },
  {
   "cell_type": "markdown",
   "metadata": {},
   "source": [
    "Step 2. I decided to segment and cluster only boroughs that contain the word Toronto. So let's slice the original dataframe and create a new dataframe of the 'Toronto data'."
   ]
  },
  {
   "cell_type": "code",
   "execution_count": 23,
   "metadata": {},
   "outputs": [
    {
     "data": {
      "text/html": [
       "<div>\n",
       "<style scoped>\n",
       "    .dataframe tbody tr th:only-of-type {\n",
       "        vertical-align: middle;\n",
       "    }\n",
       "\n",
       "    .dataframe tbody tr th {\n",
       "        vertical-align: top;\n",
       "    }\n",
       "\n",
       "    .dataframe thead th {\n",
       "        text-align: right;\n",
       "    }\n",
       "</style>\n",
       "<table border=\"1\" class=\"dataframe\">\n",
       "  <thead>\n",
       "    <tr style=\"text-align: right;\">\n",
       "      <th></th>\n",
       "      <th>Postal_Code</th>\n",
       "      <th>Borough</th>\n",
       "      <th>Neighbourhood</th>\n",
       "      <th>Latitude</th>\n",
       "      <th>Longitude</th>\n",
       "    </tr>\n",
       "  </thead>\n",
       "  <tbody>\n",
       "    <tr>\n",
       "      <th>0</th>\n",
       "      <td>M5A</td>\n",
       "      <td>Downtown Toronto</td>\n",
       "      <td>Regent Park, Harbourfront</td>\n",
       "      <td>43.65512</td>\n",
       "      <td>-79.36264</td>\n",
       "    </tr>\n",
       "    <tr>\n",
       "      <th>1</th>\n",
       "      <td>M7A</td>\n",
       "      <td>Downtown Toronto</td>\n",
       "      <td>Queen's Park, Ontario Provincial Government</td>\n",
       "      <td>43.66253</td>\n",
       "      <td>-79.39188</td>\n",
       "    </tr>\n",
       "    <tr>\n",
       "      <th>2</th>\n",
       "      <td>M5B</td>\n",
       "      <td>Downtown Toronto</td>\n",
       "      <td>Garden District, Ryerson</td>\n",
       "      <td>43.65739</td>\n",
       "      <td>-79.37804</td>\n",
       "    </tr>\n",
       "    <tr>\n",
       "      <th>3</th>\n",
       "      <td>M5C</td>\n",
       "      <td>Downtown Toronto</td>\n",
       "      <td>St. James Town</td>\n",
       "      <td>43.65215</td>\n",
       "      <td>-79.37587</td>\n",
       "    </tr>\n",
       "    <tr>\n",
       "      <th>4</th>\n",
       "      <td>M4E</td>\n",
       "      <td>East Toronto</td>\n",
       "      <td>The Beaches</td>\n",
       "      <td>43.67709</td>\n",
       "      <td>-79.29547</td>\n",
       "    </tr>\n",
       "  </tbody>\n",
       "</table>\n",
       "</div>"
      ],
      "text/plain": [
       "  Postal_Code           Borough                                Neighbourhood  \\\n",
       "0         M5A  Downtown Toronto                    Regent Park, Harbourfront   \n",
       "1         M7A  Downtown Toronto  Queen's Park, Ontario Provincial Government   \n",
       "2         M5B  Downtown Toronto                     Garden District, Ryerson   \n",
       "3         M5C  Downtown Toronto                               St. James Town   \n",
       "4         M4E      East Toronto                                  The Beaches   \n",
       "\n",
       "   Latitude  Longitude  \n",
       "0  43.65512  -79.36264  \n",
       "1  43.66253  -79.39188  \n",
       "2  43.65739  -79.37804  \n",
       "3  43.65215  -79.37587  \n",
       "4  43.67709  -79.29547  "
      ]
     },
     "execution_count": 23,
     "metadata": {},
     "output_type": "execute_result"
    }
   ],
   "source": [
    "toronto_data = df2[df2['Borough'].str.contains('Toronto')].reset_index(drop=True)\n",
    "toronto_data.head()"
   ]
  },
  {
   "cell_type": "code",
   "execution_count": 24,
   "metadata": {},
   "outputs": [
    {
     "name": "stdout",
     "output_type": "stream",
     "text": [
      "The geograpical coordinate of Downtown Toronto are 43.6563221, -79.3809161.\n"
     ]
    }
   ],
   "source": [
    "# Let's get the geographical coordinates of Downtown Toronto.\n",
    "address = 'Downtown Toronto, Toronto'\n",
    "\n",
    "geolocator = Nominatim(user_agent=\"toronto_explorer\")\n",
    "location = geolocator.geocode(address)\n",
    "latitude = location.latitude\n",
    "longitude = location.longitude\n",
    "print('The geograpical coordinate of Downtown Toronto are {}, {}.'.format(latitude, longitude))"
   ]
  },
  {
   "cell_type": "code",
   "execution_count": 25,
   "metadata": {},
   "outputs": [
    {
     "data": {
      "text/html": [
       "<div style=\"width:100%;\"><div style=\"position:relative;width:100%;height:0;padding-bottom:60%;\"><span style=\"color:#565656\">Make this Notebook Trusted to load map: File -> Trust Notebook</span><iframe src=\"about:blank\" style=\"position:absolute;width:100%;height:100%;left:0;top:0;border:none !important;\" data-html=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 onload=\"this.contentDocument.open();this.contentDocument.write(atob(this.getAttribute('data-html')));this.contentDocument.close();\" allowfullscreen webkitallowfullscreen mozallowfullscreen></iframe></div></div>"
      ],
      "text/plain": [
       "<folium.folium.Map at 0x7fe84a03c250>"
      ]
     },
     "execution_count": 25,
     "metadata": {},
     "output_type": "execute_result"
    }
   ],
   "source": [
    "# Let's visualize the Downtown Toronto and all the neighborhoods that contain the word Toronto superimposed on top.\n",
    "\n",
    "# create map of Downtown Toronto using latitude and longitude values\n",
    "map_DToronto = folium.Map(location=[latitude, longitude], zoom_start=12)\n",
    "\n",
    "# add markers to map\n",
    "for lat, lng, borough, neighbourhood in zip(toronto_data['Latitude'], toronto_data['Longitude'], toronto_data['Borough'], toronto_data['Neighbourhood']):\n",
    "    label = '{}, {}'.format(neighbourhood, borough)\n",
    "    label = folium.Popup(label, parse_html=True)\n",
    "    folium.CircleMarker(\n",
    "        [lat, lng],\n",
    "        radius=5,\n",
    "        popup=label,\n",
    "        color='blue',\n",
    "        fill=True,\n",
    "        fill_color='#3186cc',\n",
    "        fill_opacity=0.7,\n",
    "        parse_html=False).add_to(map_DToronto)  \n",
    "    \n",
    "map_DToronto"
   ]
  },
  {
   "cell_type": "markdown",
   "metadata": {},
   "source": [
    "Step 3. Next, we are going to start utilizing the Foursquare API to explore the neighborhoods and segment them."
   ]
  },
  {
   "cell_type": "code",
   "execution_count": null,
   "metadata": {},
   "outputs": [],
   "source": []
  }
 ],
 "metadata": {
  "kernelspec": {
   "display_name": "Python 3",
   "language": "python",
   "name": "python3"
  },
  "language_info": {
   "codemirror_mode": {
    "name": "ipython",
    "version": 3
   },
   "file_extension": ".py",
   "mimetype": "text/x-python",
   "name": "python",
   "nbconvert_exporter": "python",
   "pygments_lexer": "ipython3",
   "version": "3.7.6"
  }
 },
 "nbformat": 4,
 "nbformat_minor": 4
}
