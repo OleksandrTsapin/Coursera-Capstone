{
 "cells": [
  {
   "cell_type": "markdown",
   "metadata": {},
   "source": [
    "# Python Helpme "
   ]
  },
  {
   "cell_type": "markdown",
   "metadata": {},
   "source": [
    "## Lists"
   ]
  },
  {
   "cell_type": "code",
   "execution_count": 3,
   "metadata": {},
   "outputs": [
    {
     "data": {
      "text/plain": [
       "[1, 2, 3]"
      ]
     },
     "execution_count": 3,
     "metadata": {},
     "output_type": "execute_result"
    }
   ],
   "source": [
    "# Change type of values in the list\n",
    "A = [1, 2.3, 3.5]\n",
    "B = [int(i) for i in A]\n",
    "B"
   ]
  },
  {
   "cell_type": "markdown",
   "metadata": {},
   "source": [
    "## Data Visualization"
   ]
  },
  {
   "cell_type": "code",
   "execution_count": null,
   "metadata": {},
   "outputs": [],
   "source": [
    "# Choropleth Map\n",
    "\n",
    "m = folium.Map(location=[latitude, longitude], zoom_start=10)\n",
    "# generate choropleth map using the total immigration of each country to Canada from 1980 to 2013\n",
    "m.choropleth(\n",
    "    geo_data=kyiv_geo,\n",
    "    data=kyiv_districts,\n",
    "    columns=['DISTRICT', 'AVERAGE_MONTHLY_RENT'],\n",
    "    key_on='feature.properties.name_en',\n",
    "    threshold_scale=[306, 330, 360, 390, 420, 496], # limit 6 values in the list\n",
    "    fill_color='YlOrRd', \n",
    "    fill_opacity=0.7, \n",
    "    line_opacity=0.2,\n",
    "    legend_name='Average Rent Price in Kyiv'\n",
    ")\n",
    "m"
   ]
  }
 ],
 "metadata": {
  "kernelspec": {
   "display_name": "Python 3",
   "language": "python",
   "name": "python3"
  },
  "language_info": {
   "codemirror_mode": {
    "name": "ipython",
    "version": 3
   },
   "file_extension": ".py",
   "mimetype": "text/x-python",
   "name": "python",
   "nbconvert_exporter": "python",
   "pygments_lexer": "ipython3",
   "version": "3.8.5"
  }
 },
 "nbformat": 4,
 "nbformat_minor": 4
}
