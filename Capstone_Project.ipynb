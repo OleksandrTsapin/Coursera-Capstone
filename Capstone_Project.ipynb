{
 "cells": [
  {
   "cell_type": "markdown",
   "metadata": {},
   "source": [
    "# Capstone Project: The Battle of Neighborhoods\n",
    "\n",
    "Oleksandr Tsapin, 04.12.2020"
   ]
  },
  {
   "cell_type": "code",
   "execution_count": 1,
   "metadata": {},
   "outputs": [
    {
     "data": {
      "text/html": [
       "<div>\n",
       "<style scoped>\n",
       "    .dataframe tbody tr th:only-of-type {\n",
       "        vertical-align: middle;\n",
       "    }\n",
       "\n",
       "    .dataframe tbody tr th {\n",
       "        vertical-align: top;\n",
       "    }\n",
       "\n",
       "    .dataframe thead th {\n",
       "        text-align: right;\n",
       "    }\n",
       "</style>\n",
       "<table border=\"1\" class=\"dataframe\">\n",
       "  <thead>\n",
       "    <tr style=\"text-align: right;\">\n",
       "      <th></th>\n",
       "      <th>DISTRICT</th>\n",
       "      <th>AVERAGE_MONTHLY_RENT</th>\n",
       "    </tr>\n",
       "  </thead>\n",
       "  <tbody>\n",
       "    <tr>\n",
       "      <th>0</th>\n",
       "      <td>Golosiivskyi district</td>\n",
       "      <td>329.666667</td>\n",
       "    </tr>\n",
       "    <tr>\n",
       "      <th>1</th>\n",
       "      <td>Solomianskyi district</td>\n",
       "      <td>352.000000</td>\n",
       "    </tr>\n",
       "    <tr>\n",
       "      <th>2</th>\n",
       "      <td>Sviatoshynskyi district</td>\n",
       "      <td>333.666667</td>\n",
       "    </tr>\n",
       "    <tr>\n",
       "      <th>3</th>\n",
       "      <td>Darnytskyi district</td>\n",
       "      <td>308.000000</td>\n",
       "    </tr>\n",
       "    <tr>\n",
       "      <th>4</th>\n",
       "      <td>Shevchenkivskyi district</td>\n",
       "      <td>493.666667</td>\n",
       "    </tr>\n",
       "    <tr>\n",
       "      <th>5</th>\n",
       "      <td>Pecherskyi district</td>\n",
       "      <td>476.333333</td>\n",
       "    </tr>\n",
       "    <tr>\n",
       "      <th>6</th>\n",
       "      <td>Dniprovskyi district</td>\n",
       "      <td>324.333333</td>\n",
       "    </tr>\n",
       "    <tr>\n",
       "      <th>7</th>\n",
       "      <td>Desnianskyi district</td>\n",
       "      <td>339.000000</td>\n",
       "    </tr>\n",
       "    <tr>\n",
       "      <th>8</th>\n",
       "      <td>Obolonskyi district</td>\n",
       "      <td>377.333333</td>\n",
       "    </tr>\n",
       "    <tr>\n",
       "      <th>9</th>\n",
       "      <td>Podilskyi district</td>\n",
       "      <td>360.000000</td>\n",
       "    </tr>\n",
       "  </tbody>\n",
       "</table>\n",
       "</div>"
      ],
      "text/plain": [
       "                   DISTRICT  AVERAGE_MONTHLY_RENT\n",
       "0     Golosiivskyi district            329.666667\n",
       "1     Solomianskyi district            352.000000\n",
       "2   Sviatoshynskyi district            333.666667\n",
       "3       Darnytskyi district            308.000000\n",
       "4  Shevchenkivskyi district            493.666667\n",
       "5       Pecherskyi district            476.333333\n",
       "6      Dniprovskyi district            324.333333\n",
       "7      Desnianskyi district            339.000000\n",
       "8       Obolonskyi district            377.333333\n",
       "9        Podilskyi district            360.000000"
      ]
     },
     "execution_count": 1,
     "metadata": {},
     "output_type": "execute_result"
    }
   ],
   "source": [
    "# Import Excel file with postal codes in Kyiv\n",
    "import pandas as pd\n",
    "kyiv_districts = pd.read_excel(\"Kyiv_Districts.xlsx\")\n",
    "kyiv_districts"
   ]
  },
  {
   "cell_type": "code",
   "execution_count": 11,
   "metadata": {},
   "outputs": [
    {
     "data": {
      "text/plain": [
       "Text(0.5, 1.0, 'Average Monthly Rent in Kyiv')"
      ]
     },
     "execution_count": 11,
     "metadata": {},
     "output_type": "execute_result"
    },
    {
     "data": {
      "image/png": "[encoded data removed]",
      "text/plain": [
       "<Figure size 432x288 with 1 Axes>"
      ]
     },
     "metadata": {
      "needs_background": "light"
     },
     "output_type": "display_data"
    }
   ],
   "source": [
    "# Lets plot the histogram of Avg Monthly Rent\n",
    "\n",
    "%matplotlib inline\n",
    "import matplotlib as mpl\n",
    "import matplotlib.pyplot as plt\n",
    "\n",
    "plt.hist(kyiv_districts[\"AVERAGE_MONTHLY_RENT\"])\n",
    "\n",
    "# set x/y labels and plot title\n",
    "plt.xlabel(\"AVERAGE_MONTHLY_RENT\")\n",
    "plt.ylabel(\"count\")\n",
    "plt.title(\"Average Monthly Rent in Kyiv\")"
   ]
  },
  {
   "cell_type": "code",
   "execution_count": 3,
   "metadata": {},
   "outputs": [
    {
     "data": {
      "text/html": [
       "<div>\n",
       "<style scoped>\n",
       "    .dataframe tbody tr th:only-of-type {\n",
       "        vertical-align: middle;\n",
       "    }\n",
       "\n",
       "    .dataframe tbody tr th {\n",
       "        vertical-align: top;\n",
       "    }\n",
       "\n",
       "    .dataframe thead th {\n",
       "        text-align: right;\n",
       "    }\n",
       "</style>\n",
       "<table border=\"1\" class=\"dataframe\">\n",
       "  <thead>\n",
       "    <tr style=\"text-align: right;\">\n",
       "      <th></th>\n",
       "      <th>DISTRICT</th>\n",
       "      <th>AVERAGE_MONTHLY_RENT</th>\n",
       "      <th>PRICE_GROUP</th>\n",
       "    </tr>\n",
       "  </thead>\n",
       "  <tbody>\n",
       "    <tr>\n",
       "      <th>0</th>\n",
       "      <td>Golosiivskyi district</td>\n",
       "      <td>329.666667</td>\n",
       "      <td>Low</td>\n",
       "    </tr>\n",
       "    <tr>\n",
       "      <th>1</th>\n",
       "      <td>Solomianskyi district</td>\n",
       "      <td>352.000000</td>\n",
       "      <td>Low+</td>\n",
       "    </tr>\n",
       "    <tr>\n",
       "      <th>2</th>\n",
       "      <td>Sviatoshynskyi district</td>\n",
       "      <td>333.666667</td>\n",
       "      <td>Low</td>\n",
       "    </tr>\n",
       "    <tr>\n",
       "      <th>3</th>\n",
       "      <td>Darnytskyi district</td>\n",
       "      <td>308.000000</td>\n",
       "      <td>Low</td>\n",
       "    </tr>\n",
       "    <tr>\n",
       "      <th>4</th>\n",
       "      <td>Shevchenkivskyi district</td>\n",
       "      <td>493.666667</td>\n",
       "      <td>High+</td>\n",
       "    </tr>\n",
       "    <tr>\n",
       "      <th>5</th>\n",
       "      <td>Pecherskyi district</td>\n",
       "      <td>476.333333</td>\n",
       "      <td>High+</td>\n",
       "    </tr>\n",
       "    <tr>\n",
       "      <th>6</th>\n",
       "      <td>Dniprovskyi district</td>\n",
       "      <td>324.333333</td>\n",
       "      <td>Low</td>\n",
       "    </tr>\n",
       "    <tr>\n",
       "      <th>7</th>\n",
       "      <td>Desnianskyi district</td>\n",
       "      <td>339.000000</td>\n",
       "      <td>Low+</td>\n",
       "    </tr>\n",
       "    <tr>\n",
       "      <th>8</th>\n",
       "      <td>Obolonskyi district</td>\n",
       "      <td>377.333333</td>\n",
       "      <td>Medium</td>\n",
       "    </tr>\n",
       "    <tr>\n",
       "      <th>9</th>\n",
       "      <td>Podilskyi district</td>\n",
       "      <td>360.000000</td>\n",
       "      <td>Low+</td>\n",
       "    </tr>\n",
       "  </tbody>\n",
       "</table>\n",
       "</div>"
      ],
      "text/plain": [
       "                   DISTRICT  AVERAGE_MONTHLY_RENT PRICE_GROUP\n",
       "0     Golosiivskyi district            329.666667         Low\n",
       "1     Solomianskyi district            352.000000        Low+\n",
       "2   Sviatoshynskyi district            333.666667         Low\n",
       "3       Darnytskyi district            308.000000         Low\n",
       "4  Shevchenkivskyi district            493.666667       High+\n",
       "5       Pecherskyi district            476.333333       High+\n",
       "6      Dniprovskyi district            324.333333         Low\n",
       "7      Desnianskyi district            339.000000        Low+\n",
       "8       Obolonskyi district            377.333333      Medium\n",
       "9        Podilskyi district            360.000000        Low+"
      ]
     },
     "execution_count": 3,
     "metadata": {},
     "output_type": "execute_result"
    }
   ],
   "source": [
    "import numpy as np\n",
    "bins = np.linspace(min(kyiv_districts['AVERAGE_MONTHLY_RENT']), max(kyiv_districts['AVERAGE_MONTHLY_RENT']), 7)\n",
    "group_names = ['Low','Low+','Medium','Medium+','High','High+']\n",
    "kyiv_districts['PRICE_GROUP'] = pd.cut(kyiv_districts['AVERAGE_MONTHLY_RENT'], bins, labels=group_names, include_lowest=True )\n",
    "kyiv_districts"
   ]
  },
  {
   "cell_type": "code",
   "execution_count": 4,
   "metadata": {},
   "outputs": [
    {
     "data": {
      "text/plain": [
       "Low        4\n",
       "Low+       3\n",
       "High+      2\n",
       "Medium     1\n",
       "High       0\n",
       "Medium+    0\n",
       "Name: PRICE_GROUP, dtype: int64"
      ]
     },
     "execution_count": 4,
     "metadata": {},
     "output_type": "execute_result"
    }
   ],
   "source": [
    "kyiv_districts['PRICE_GROUP'].value_counts()"
   ]
  },
  {
   "cell_type": "code",
   "execution_count": 5,
   "metadata": {},
   "outputs": [
    {
     "data": {
      "text/html": [
       "<div>\n",
       "<style scoped>\n",
       "    .dataframe tbody tr th:only-of-type {\n",
       "        vertical-align: middle;\n",
       "    }\n",
       "\n",
       "    .dataframe tbody tr th {\n",
       "        vertical-align: top;\n",
       "    }\n",
       "\n",
       "    .dataframe thead th {\n",
       "        text-align: right;\n",
       "    }\n",
       "</style>\n",
       "<table border=\"1\" class=\"dataframe\">\n",
       "  <thead>\n",
       "    <tr style=\"text-align: right;\">\n",
       "      <th></th>\n",
       "      <th>DISTRICT</th>\n",
       "    </tr>\n",
       "    <tr>\n",
       "      <th>PRICE_GROUP</th>\n",
       "      <th></th>\n",
       "    </tr>\n",
       "  </thead>\n",
       "  <tbody>\n",
       "    <tr>\n",
       "      <th>Low</th>\n",
       "      <td>4</td>\n",
       "    </tr>\n",
       "    <tr>\n",
       "      <th>Low+</th>\n",
       "      <td>3</td>\n",
       "    </tr>\n",
       "    <tr>\n",
       "      <th>Medium</th>\n",
       "      <td>1</td>\n",
       "    </tr>\n",
       "    <tr>\n",
       "      <th>Medium+</th>\n",
       "      <td>0</td>\n",
       "    </tr>\n",
       "    <tr>\n",
       "      <th>High</th>\n",
       "      <td>0</td>\n",
       "    </tr>\n",
       "    <tr>\n",
       "      <th>High+</th>\n",
       "      <td>2</td>\n",
       "    </tr>\n",
       "  </tbody>\n",
       "</table>\n",
       "</div>"
      ],
      "text/plain": [
       "             DISTRICT\n",
       "PRICE_GROUP          \n",
       "Low                 4\n",
       "Low+                3\n",
       "Medium              1\n",
       "Medium+             0\n",
       "High                0\n",
       "High+               2"
      ]
     },
     "execution_count": 5,
     "metadata": {},
     "output_type": "execute_result"
    }
   ],
   "source": [
    "df = kyiv_districts.groupby(by='PRICE_GROUP').count()\n",
    "df = pd.DataFrame(df['DISTRICT'])\n",
    "df"
   ]
  },
  {
   "cell_type": "code",
   "execution_count": 13,
   "metadata": {},
   "outputs": [
    {
     "data": {
      "image/png": "[encoded data removed]",
      "text/plain": [
       "<Figure size 432x288 with 1 Axes>"
      ]
     },
     "metadata": {
      "needs_background": "light"
     },
     "output_type": "display_data"
    }
   ],
   "source": [
    "df['DISTRICT'].plot(kind=\"bar\")\n",
    "\n",
    "plt.xlabel(\"Price Group\")\n",
    "plt.ylabel(\"Number of Districts\")\n",
    "plt.title(\"Rent Price Groups\")\n",
    "plt.show()"
   ]
  },
  {
   "cell_type": "code",
   "execution_count": null,
   "metadata": {},
   "outputs": [],
   "source": []
  },
  {
   "cell_type": "code",
   "execution_count": null,
   "metadata": {},
   "outputs": [],
   "source": []
  },
  {
   "cell_type": "code",
   "execution_count": null,
   "metadata": {},
   "outputs": [],
   "source": [
    "# Get latitude and longitude by the address\n",
    "!conda install -c conda-forge geopy --yes\n",
    "from geopy.geocoders import Nominatim # convert an address into latitude and longitude values\n",
    "\n",
    "latitude = []\n",
    "longitude = []\n",
    "\n",
    "for DISTRICT in kyiv_districts['DISTRICT']:\n",
    "    address = '{}, Kyiv'.format(DISTRICT)\n",
    "    geolocator = Nominatim(user_agent=\"kyiv_explorer\")\n",
    "    location = geolocator.geocode(address)\n",
    "    lat = location.latitude\n",
    "    long = location.longitude\n",
    "    latitude.append(lat)\n",
    "    longitude.append(long)\n",
    "    print('{}: {}, {}.'.format(DISTRICT, lat, long))\n",
    "    \n",
    "latitude, longitude"
   ]
  },
  {
   "cell_type": "code",
   "execution_count": null,
   "metadata": {},
   "outputs": [],
   "source": [
    "kyiv_districts['LATITUDE'] = latitude\n",
    "kyiv_districts['LONGITUDE'] = longitude\n",
    "kyiv_districts"
   ]
  },
  {
   "cell_type": "code",
   "execution_count": null,
   "metadata": {},
   "outputs": [],
   "source": [
    "# Get geodata of Kyiv center\n",
    "address = 'Kyiv, Ukraine'\n",
    "geolocator = Nominatim(user_agent=\"kyiv_explorer\")\n",
    "location = geolocator.geocode(address)\n",
    "latitude = location.latitude\n",
    "longitude = location.longitude\n",
    "print('The geograpical coordinate of {} are {}, {}.'.format(\"Kyiv center\", latitude, longitude))"
   ]
  },
  {
   "cell_type": "code",
   "execution_count": null,
   "metadata": {},
   "outputs": [],
   "source": [
    "# Install Folium to visualize the map of Kyiv\n",
    "import folium # map rendering library\n",
    "\n",
    "kyiv_geo = r'kyiv_raiony.geojson' # geojson file\n",
    "\n",
    "# Create a plain world map\n",
    "m = folium.Map(location=[latitude, longitude], zoom_start=10)\n",
    "\n",
    "# Generate choropleth map using the Kyiv average monthly rent data\n",
    "m.choropleth(\n",
    "    geo_data=kyiv_geo,\n",
    "    data=kyiv_districts,\n",
    "    columns=['DISTRICT', 'AVERAGE_MONTHLY_RENT'],\n",
    "    key_on='feature.properties.name_en',\n",
    "    fill_color='YlOrRd',\n",
    "    fill_opacity=0.7, \n",
    "    line_opacity=0.4,\n",
    "    legend_name='Kyiv Average Apartment Rent Cost'\n",
    ")\n",
    "\n",
    "# display map\n",
    "m"
   ]
  },
  {
   "cell_type": "code",
   "execution_count": null,
   "metadata": {},
   "outputs": [],
   "source": []
  },
  {
   "cell_type": "code",
   "execution_count": null,
   "metadata": {},
   "outputs": [],
   "source": []
  },
  {
   "cell_type": "code",
   "execution_count": null,
   "metadata": {},
   "outputs": [],
   "source": []
  },
  {
   "cell_type": "code",
   "execution_count": null,
   "metadata": {},
   "outputs": [],
   "source": []
  },
  {
   "cell_type": "code",
   "execution_count": null,
   "metadata": {},
   "outputs": [],
   "source": []
  },
  {
   "cell_type": "code",
   "execution_count": null,
   "metadata": {},
   "outputs": [],
   "source": []
  },
  {
   "cell_type": "code",
   "execution_count": null,
   "metadata": {},
   "outputs": [],
   "source": []
  },
  {
   "cell_type": "code",
   "execution_count": null,
   "metadata": {},
   "outputs": [],
   "source": []
  },
  {
   "cell_type": "code",
   "execution_count": null,
   "metadata": {},
   "outputs": [],
   "source": []
  },
  {
   "cell_type": "code",
   "execution_count": null,
   "metadata": {},
   "outputs": [],
   "source": []
  },
  {
   "cell_type": "code",
   "execution_count": null,
   "metadata": {},
   "outputs": [],
   "source": [
    "# generate choropleth map using the total immigration of each country to Canada from 1980 to 2013\n",
    "m.choropleth(\n",
    "    geo_data=kyiv_geo,\n",
    "    data=kyiv_districts,\n",
    "    columns=['DISTRICT', 'AVERAGE_MONTHLY_RENT'],\n",
    "    key_on='feature.properties.name_en',\n",
    "    fill_color='YlOrRd', \n",
    "    fill_opacity=0.7, \n",
    "    line_opacity=0.2,\n",
    "    legend_name='Kyiv Average Apartment Rent Cost'\n",
    ")\n",
    "\n",
    "# add markers to map\n",
    "for lat, lng, dis, rent in zip(kyiv_districts['LATITUDE'], kyiv_districts['LONGITUDE'], kyiv_districts['DISTRICT'], kyiv_districts['AVERAGE_MONTHLY_RENT']):\n",
    "    label = '{}, {}'.format(dis, rent)\n",
    "    label = folium.Popup(label, parse_html=True)\n",
    "    folium.CircleMarker(\n",
    "        [lat, lng],\n",
    "        radius=5,\n",
    "        popup=label,\n",
    "        color='blue',\n",
    "        fill=True,\n",
    "        fill_color='#3186cc',\n",
    "        fill_opacity=0.7,\n",
    "        parse_html=False).add_to(m)  \n",
    "\n",
    "\n",
    "# display map\n",
    "m"
   ]
  },
  {
   "cell_type": "code",
   "execution_count": null,
   "metadata": {},
   "outputs": [],
   "source": []
  }
 ],
 "metadata": {
  "kernelspec": {
   "display_name": "Python 3",
   "language": "python",
   "name": "python3"
  },
  "language_info": {
   "codemirror_mode": {
    "name": "ipython",
    "version": 3
   },
   "file_extension": ".py",
   "mimetype": "text/x-python",
   "name": "python",
   "nbconvert_exporter": "python",
   "pygments_lexer": "ipython3",
   "version": "3.8.5"
  }
 },
 "nbformat": 4,
 "nbformat_minor": 4
}
